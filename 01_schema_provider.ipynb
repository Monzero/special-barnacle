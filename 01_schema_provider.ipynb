{
 "cells": [
  {
   "cell_type": "code",
   "execution_count": 4,
   "id": "d3fe5ede",
   "metadata": {},
   "outputs": [
    {
     "name": "stdout",
     "output_type": "stream",
     "text": [
      "Collecting pandas (from -r requirements.txt (line 1))\n",
      "  Using cached pandas-2.3.2-cp312-cp312-macosx_11_0_arm64.whl.metadata (91 kB)\n",
      "Collecting numpy>=1.26.0 (from pandas->-r requirements.txt (line 1))\n",
      "  Using cached numpy-2.3.3-cp312-cp312-macosx_14_0_arm64.whl.metadata (62 kB)\n",
      "Requirement already satisfied: python-dateutil>=2.8.2 in ./venv/lib/python3.12/site-packages (from pandas->-r requirements.txt (line 1)) (2.9.0.post0)\n",
      "Collecting pytz>=2020.1 (from pandas->-r requirements.txt (line 1))\n",
      "  Using cached pytz-2025.2-py2.py3-none-any.whl.metadata (22 kB)\n",
      "Collecting tzdata>=2022.7 (from pandas->-r requirements.txt (line 1))\n",
      "  Using cached tzdata-2025.2-py2.py3-none-any.whl.metadata (1.4 kB)\n",
      "Requirement already satisfied: six>=1.5 in ./venv/lib/python3.12/site-packages (from python-dateutil>=2.8.2->pandas->-r requirements.txt (line 1)) (1.17.0)\n",
      "Using cached pandas-2.3.2-cp312-cp312-macosx_11_0_arm64.whl (10.7 MB)\n",
      "Using cached numpy-2.3.3-cp312-cp312-macosx_14_0_arm64.whl (5.1 MB)\n",
      "Using cached pytz-2025.2-py2.py3-none-any.whl (509 kB)\n",
      "Using cached tzdata-2025.2-py2.py3-none-any.whl (347 kB)\n",
      "Installing collected packages: pytz, tzdata, numpy, pandas\n",
      "Successfully installed numpy-2.3.3 pandas-2.3.2 pytz-2025.2 tzdata-2025.2\n",
      "\n",
      "\u001b[1m[\u001b[0m\u001b[34;49mnotice\u001b[0m\u001b[1;39;49m]\u001b[0m\u001b[39;49m A new release of pip is available: \u001b[0m\u001b[31;49m24.0\u001b[0m\u001b[39;49m -> \u001b[0m\u001b[32;49m25.2\u001b[0m\n",
      "\u001b[1m[\u001b[0m\u001b[34;49mnotice\u001b[0m\u001b[1;39;49m]\u001b[0m\u001b[39;49m To update, run: \u001b[0m\u001b[32;49mpip install --upgrade pip\u001b[0m\n"
     ]
    }
   ],
   "source": [
    "!pip install -r requirements.txt"
   ]
  },
  {
   "cell_type": "code",
   "execution_count": 5,
   "id": "6403fc50",
   "metadata": {},
   "outputs": [],
   "source": [
    "## Set up\n",
    "import os\n",
    "import sys\n",
    "import subprocess   \n",
    "import time\n",
    "import pandas as pd\n",
    "\n",
    "input_path = './01_input/01_ctr_schema.csv'"
   ]
  },
  {
   "cell_type": "code",
   "execution_count": 6,
   "id": "88c022bb",
   "metadata": {},
   "outputs": [
    {
     "data": {
      "application/vnd.microsoft.datawrangler.viewer.v0+json": {
       "columns": [
        {
         "name": "index",
         "rawType": "int64",
         "type": "integer"
        },
        {
         "name": "TRIMMED COLUMN NAME",
         "rawType": "object",
         "type": "string"
        },
        {
         "name": "Entry #",
         "rawType": "int64",
         "type": "integer"
        },
        {
         "name": "Subject Area",
         "rawType": "object",
         "type": "string"
        },
        {
         "name": "Current CTR Definition Field Name",
         "rawType": "object",
         "type": "string"
        },
        {
         "name": "Data Type",
         "rawType": "object",
         "type": "string"
        },
        {
         "name": "Business Definition",
         "rawType": "object",
         "type": "string"
        },
        {
         "name": "Usage",
         "rawType": "object",
         "type": "string"
        },
        {
         "name": "Required Field? (Y/N)",
         "rawType": "object",
         "type": "string"
        },
        {
         "name": "Notes/Values",
         "rawType": "object",
         "type": "string"
        },
        {
         "name": "CHR?",
         "rawType": "object",
         "type": "string"
        },
        {
         "name": "Table Name",
         "rawType": "object",
         "type": "string"
        },
        {
         "name": "Column Name",
         "rawType": "object",
         "type": "string"
        },
        {
         "name": "Optum Extract Data Name",
         "rawType": "object",
         "type": "string"
        },
        {
         "name": "Optum Notes",
         "rawType": "object",
         "type": "unknown"
        }
       ],
       "ref": "795cbabd-4a66-40b9-bc9c-07bb79e7816c",
       "rows": [
        [
         "0",
         "CUSTOMER_ID",
         "1",
         "Customer",
         "CTR-CUSTOMER-ID",
         "9(10)",
         "Unique customer identifier",
         "B",
         "Y",
         "Primary key",
         "Y",
         "ECOM001_CUSTOMERS, ECOM002_ADDRESSES, ECOM007_ORDERS, ECOM010_REVIEWS",
         "CUSTOMER_ID",
         "PCUST-ID",
         "Customer primary key"
        ],
        [
         "1",
         "PRODUCT_ID",
         "2",
         "Product",
         "CTR-PRODUCT-ID",
         "9(10)",
         "Unique product identifier",
         "B",
         "Y",
         "Primary key",
         "Y",
         "ECOM005_PRODUCTS, ECOM006_INVENTORY, ECOM008_ORDER_ITEMS, ECOM010_REVIEWS",
         "PRODUCT_ID",
         "PPROD-ID",
         "Product primary key"
        ],
        [
         "2",
         "ORDER_ID",
         "3",
         "Order",
         "CTR-ORDER-ID",
         "9(12)",
         "Unique order identifier",
         "B",
         "Y",
         "Primary key",
         "Y",
         "ECOM007_ORDERS, ECOM008_ORDER_ITEMS, ECOM009_PAYMENTS",
         "ORDER_ID",
         "PORD-ID",
         "Order primary key"
        ],
        [
         "3",
         "ADDRESS_ID",
         "4",
         "Address",
         "CTR-ADDRESS-ID",
         "9(10)",
         "Unique address identifier",
         "B",
         "Y",
         "Primary key",
         "Y",
         "ECOM002_ADDRESSES",
         "ADDRESS_ID",
         "PADDR-ID",
         null
        ],
        [
         "4",
         "CATEGORY_ID",
         "5",
         "Product",
         "CTR-CATEGORY-ID",
         "9(8)",
         "Unique category identifier",
         "B",
         "Y",
         "Primary key",
         "Y",
         "ECOM003_CATEGORIES, ECOM005_PRODUCTS",
         "CATEGORY_ID",
         "PCAT-ID",
         "Category reference in products"
        ]
       ],
       "shape": {
        "columns": 14,
        "rows": 5
       }
      },
      "text/html": [
       "<div>\n",
       "<style scoped>\n",
       "    .dataframe tbody tr th:only-of-type {\n",
       "        vertical-align: middle;\n",
       "    }\n",
       "\n",
       "    .dataframe tbody tr th {\n",
       "        vertical-align: top;\n",
       "    }\n",
       "\n",
       "    .dataframe thead th {\n",
       "        text-align: right;\n",
       "    }\n",
       "</style>\n",
       "<table border=\"1\" class=\"dataframe\">\n",
       "  <thead>\n",
       "    <tr style=\"text-align: right;\">\n",
       "      <th></th>\n",
       "      <th>TRIMMED COLUMN NAME</th>\n",
       "      <th>Entry #</th>\n",
       "      <th>Subject Area</th>\n",
       "      <th>Current CTR Definition Field Name</th>\n",
       "      <th>Data Type</th>\n",
       "      <th>Business Definition</th>\n",
       "      <th>Usage</th>\n",
       "      <th>Required Field? (Y/N)</th>\n",
       "      <th>Notes/Values</th>\n",
       "      <th>CHR?</th>\n",
       "      <th>Table Name</th>\n",
       "      <th>Column Name</th>\n",
       "      <th>Optum Extract Data Name</th>\n",
       "      <th>Optum Notes</th>\n",
       "    </tr>\n",
       "  </thead>\n",
       "  <tbody>\n",
       "    <tr>\n",
       "      <th>0</th>\n",
       "      <td>CUSTOMER_ID</td>\n",
       "      <td>1</td>\n",
       "      <td>Customer</td>\n",
       "      <td>CTR-CUSTOMER-ID</td>\n",
       "      <td>9(10)</td>\n",
       "      <td>Unique customer identifier</td>\n",
       "      <td>B</td>\n",
       "      <td>Y</td>\n",
       "      <td>Primary key</td>\n",
       "      <td>Y</td>\n",
       "      <td>ECOM001_CUSTOMERS, ECOM002_ADDRESSES, ECOM007_...</td>\n",
       "      <td>CUSTOMER_ID</td>\n",
       "      <td>PCUST-ID</td>\n",
       "      <td>Customer primary key</td>\n",
       "    </tr>\n",
       "    <tr>\n",
       "      <th>1</th>\n",
       "      <td>PRODUCT_ID</td>\n",
       "      <td>2</td>\n",
       "      <td>Product</td>\n",
       "      <td>CTR-PRODUCT-ID</td>\n",
       "      <td>9(10)</td>\n",
       "      <td>Unique product identifier</td>\n",
       "      <td>B</td>\n",
       "      <td>Y</td>\n",
       "      <td>Primary key</td>\n",
       "      <td>Y</td>\n",
       "      <td>ECOM005_PRODUCTS, ECOM006_INVENTORY, ECOM008_O...</td>\n",
       "      <td>PRODUCT_ID</td>\n",
       "      <td>PPROD-ID</td>\n",
       "      <td>Product primary key</td>\n",
       "    </tr>\n",
       "    <tr>\n",
       "      <th>2</th>\n",
       "      <td>ORDER_ID</td>\n",
       "      <td>3</td>\n",
       "      <td>Order</td>\n",
       "      <td>CTR-ORDER-ID</td>\n",
       "      <td>9(12)</td>\n",
       "      <td>Unique order identifier</td>\n",
       "      <td>B</td>\n",
       "      <td>Y</td>\n",
       "      <td>Primary key</td>\n",
       "      <td>Y</td>\n",
       "      <td>ECOM007_ORDERS, ECOM008_ORDER_ITEMS, ECOM009_P...</td>\n",
       "      <td>ORDER_ID</td>\n",
       "      <td>PORD-ID</td>\n",
       "      <td>Order primary key</td>\n",
       "    </tr>\n",
       "    <tr>\n",
       "      <th>3</th>\n",
       "      <td>ADDRESS_ID</td>\n",
       "      <td>4</td>\n",
       "      <td>Address</td>\n",
       "      <td>CTR-ADDRESS-ID</td>\n",
       "      <td>9(10)</td>\n",
       "      <td>Unique address identifier</td>\n",
       "      <td>B</td>\n",
       "      <td>Y</td>\n",
       "      <td>Primary key</td>\n",
       "      <td>Y</td>\n",
       "      <td>ECOM002_ADDRESSES</td>\n",
       "      <td>ADDRESS_ID</td>\n",
       "      <td>PADDR-ID</td>\n",
       "      <td>NaN</td>\n",
       "    </tr>\n",
       "    <tr>\n",
       "      <th>4</th>\n",
       "      <td>CATEGORY_ID</td>\n",
       "      <td>5</td>\n",
       "      <td>Product</td>\n",
       "      <td>CTR-CATEGORY-ID</td>\n",
       "      <td>9(8)</td>\n",
       "      <td>Unique category identifier</td>\n",
       "      <td>B</td>\n",
       "      <td>Y</td>\n",
       "      <td>Primary key</td>\n",
       "      <td>Y</td>\n",
       "      <td>ECOM003_CATEGORIES, ECOM005_PRODUCTS</td>\n",
       "      <td>CATEGORY_ID</td>\n",
       "      <td>PCAT-ID</td>\n",
       "      <td>Category reference in products</td>\n",
       "    </tr>\n",
       "  </tbody>\n",
       "</table>\n",
       "</div>"
      ],
      "text/plain": [
       "  TRIMMED COLUMN NAME  Entry # Subject Area Current CTR Definition Field Name  \\\n",
       "0         CUSTOMER_ID        1     Customer                   CTR-CUSTOMER-ID   \n",
       "1          PRODUCT_ID        2      Product                    CTR-PRODUCT-ID   \n",
       "2            ORDER_ID        3        Order                      CTR-ORDER-ID   \n",
       "3          ADDRESS_ID        4      Address                    CTR-ADDRESS-ID   \n",
       "4         CATEGORY_ID        5      Product                   CTR-CATEGORY-ID   \n",
       "\n",
       "  Data Type         Business Definition Usage Required Field? (Y/N)  \\\n",
       "0     9(10)  Unique customer identifier     B                     Y   \n",
       "1     9(10)   Unique product identifier     B                     Y   \n",
       "2     9(12)     Unique order identifier     B                     Y   \n",
       "3     9(10)   Unique address identifier     B                     Y   \n",
       "4      9(8)  Unique category identifier     B                     Y   \n",
       "\n",
       "  Notes/Values CHR?                                         Table Name  \\\n",
       "0  Primary key    Y  ECOM001_CUSTOMERS, ECOM002_ADDRESSES, ECOM007_...   \n",
       "1  Primary key    Y  ECOM005_PRODUCTS, ECOM006_INVENTORY, ECOM008_O...   \n",
       "2  Primary key    Y  ECOM007_ORDERS, ECOM008_ORDER_ITEMS, ECOM009_P...   \n",
       "3  Primary key    Y                                  ECOM002_ADDRESSES   \n",
       "4  Primary key    Y               ECOM003_CATEGORIES, ECOM005_PRODUCTS   \n",
       "\n",
       "   Column Name Optum Extract Data Name                     Optum Notes  \n",
       "0  CUSTOMER_ID                PCUST-ID            Customer primary key  \n",
       "1   PRODUCT_ID                PPROD-ID             Product primary key  \n",
       "2     ORDER_ID                 PORD-ID               Order primary key  \n",
       "3   ADDRESS_ID                PADDR-ID                             NaN  \n",
       "4  CATEGORY_ID                 PCAT-ID  Category reference in products  "
      ]
     },
     "execution_count": 6,
     "metadata": {},
     "output_type": "execute_result"
    }
   ],
   "source": [
    "df_schema = pd.read_csv(input_path)\n",
    "df_schema.head()"
   ]
  },
  {
   "cell_type": "code",
   "execution_count": null,
   "id": "9cb50851",
   "metadata": {},
   "outputs": [],
   "source": []
  }
 ],
 "metadata": {
  "kernelspec": {
   "display_name": "venv",
   "language": "python",
   "name": "python3"
  },
  "language_info": {
   "codemirror_mode": {
    "name": "ipython",
    "version": 3
   },
   "file_extension": ".py",
   "mimetype": "text/x-python",
   "name": "python",
   "nbconvert_exporter": "python",
   "pygments_lexer": "ipython3",
   "version": "3.12.4"
  }
 },
 "nbformat": 4,
 "nbformat_minor": 5
}
