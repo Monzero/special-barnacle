{
 "cells": [
  {
   "cell_type": "code",
   "execution_count": 1,
   "id": "d3fe5ede",
   "metadata": {},
   "outputs": [
    {
     "name": "stdout",
     "output_type": "stream",
     "text": [
      "Requirement already satisfied: pandas in ./venv/lib/python3.12/site-packages (from -r requirements.txt (line 1)) (2.3.2)\n",
      "Requirement already satisfied: openai in ./venv/lib/python3.12/site-packages (from -r requirements.txt (line 2)) (1.108.0)\n",
      "Requirement already satisfied: python-dotenv in ./venv/lib/python3.12/site-packages (from -r requirements.txt (line 3)) (1.1.1)\n",
      "Requirement already satisfied: numpy>=1.26.0 in ./venv/lib/python3.12/site-packages (from pandas->-r requirements.txt (line 1)) (2.3.3)\n",
      "Requirement already satisfied: python-dateutil>=2.8.2 in ./venv/lib/python3.12/site-packages (from pandas->-r requirements.txt (line 1)) (2.9.0.post0)\n",
      "Requirement already satisfied: pytz>=2020.1 in ./venv/lib/python3.12/site-packages (from pandas->-r requirements.txt (line 1)) (2025.2)\n",
      "Requirement already satisfied: tzdata>=2022.7 in ./venv/lib/python3.12/site-packages (from pandas->-r requirements.txt (line 1)) (2025.2)\n",
      "Requirement already satisfied: anyio<5,>=3.5.0 in ./venv/lib/python3.12/site-packages (from openai->-r requirements.txt (line 2)) (4.10.0)\n",
      "Requirement already satisfied: distro<2,>=1.7.0 in ./venv/lib/python3.12/site-packages (from openai->-r requirements.txt (line 2)) (1.9.0)\n",
      "Requirement already satisfied: httpx<1,>=0.23.0 in ./venv/lib/python3.12/site-packages (from openai->-r requirements.txt (line 2)) (0.28.1)\n",
      "Requirement already satisfied: jiter<1,>=0.4.0 in ./venv/lib/python3.12/site-packages (from openai->-r requirements.txt (line 2)) (0.11.0)\n",
      "Requirement already satisfied: pydantic<3,>=1.9.0 in ./venv/lib/python3.12/site-packages (from openai->-r requirements.txt (line 2)) (2.11.9)\n",
      "Requirement already satisfied: sniffio in ./venv/lib/python3.12/site-packages (from openai->-r requirements.txt (line 2)) (1.3.1)\n",
      "Requirement already satisfied: tqdm>4 in ./venv/lib/python3.12/site-packages (from openai->-r requirements.txt (line 2)) (4.67.1)\n",
      "Requirement already satisfied: typing-extensions<5,>=4.11 in ./venv/lib/python3.12/site-packages (from openai->-r requirements.txt (line 2)) (4.15.0)\n",
      "Requirement already satisfied: idna>=2.8 in ./venv/lib/python3.12/site-packages (from anyio<5,>=3.5.0->openai->-r requirements.txt (line 2)) (3.10)\n",
      "Requirement already satisfied: certifi in ./venv/lib/python3.12/site-packages (from httpx<1,>=0.23.0->openai->-r requirements.txt (line 2)) (2025.8.3)\n",
      "Requirement already satisfied: httpcore==1.* in ./venv/lib/python3.12/site-packages (from httpx<1,>=0.23.0->openai->-r requirements.txt (line 2)) (1.0.9)\n",
      "Requirement already satisfied: h11>=0.16 in ./venv/lib/python3.12/site-packages (from httpcore==1.*->httpx<1,>=0.23.0->openai->-r requirements.txt (line 2)) (0.16.0)\n",
      "Requirement already satisfied: annotated-types>=0.6.0 in ./venv/lib/python3.12/site-packages (from pydantic<3,>=1.9.0->openai->-r requirements.txt (line 2)) (0.7.0)\n",
      "Requirement already satisfied: pydantic-core==2.33.2 in ./venv/lib/python3.12/site-packages (from pydantic<3,>=1.9.0->openai->-r requirements.txt (line 2)) (2.33.2)\n",
      "Requirement already satisfied: typing-inspection>=0.4.0 in ./venv/lib/python3.12/site-packages (from pydantic<3,>=1.9.0->openai->-r requirements.txt (line 2)) (0.4.1)\n",
      "Requirement already satisfied: six>=1.5 in ./venv/lib/python3.12/site-packages (from python-dateutil>=2.8.2->pandas->-r requirements.txt (line 1)) (1.17.0)\n",
      "\n",
      "\u001b[1m[\u001b[0m\u001b[34;49mnotice\u001b[0m\u001b[1;39;49m]\u001b[0m\u001b[39;49m A new release of pip is available: \u001b[0m\u001b[31;49m24.0\u001b[0m\u001b[39;49m -> \u001b[0m\u001b[32;49m25.2\u001b[0m\n",
      "\u001b[1m[\u001b[0m\u001b[34;49mnotice\u001b[0m\u001b[1;39;49m]\u001b[0m\u001b[39;49m To update, run: \u001b[0m\u001b[32;49mpip install --upgrade pip\u001b[0m\n"
     ]
    }
   ],
   "source": [
    "!pip install -r requirements.txt"
   ]
  },
  {
   "cell_type": "code",
   "execution_count": 2,
   "id": "6403fc50",
   "metadata": {},
   "outputs": [],
   "source": [
    "## Set up\n",
    "import os\n",
    "import sys\n",
    "import subprocess   \n",
    "import time\n",
    "import pandas as pd\n",
    "from dotenv import load_dotenv\n",
    "import openai\n",
    "import os\n",
    "\n",
    "load_dotenv()\n",
    "openai.api_key = os.getenv(\"OPENAI_API_KEY\")\n",
    "\n",
    "source_schema_path = './01_input/01_ctr_schema.csv'\n",
    "target_schema_path = './01_input/02_target_schema.csv'"
   ]
  },
  {
   "cell_type": "code",
   "execution_count": 3,
   "id": "88c022bb",
   "metadata": {},
   "outputs": [],
   "source": [
    "df_source_schema = pd.read_csv(source_schema_path)\n",
    "df_target_schema = pd.read_csv(target_schema_path, sep=';')\n"
   ]
  },
  {
   "cell_type": "code",
   "execution_count": 10,
   "id": "6c350bf3",
   "metadata": {},
   "outputs": [
    {
     "data": {
      "application/vnd.microsoft.datawrangler.viewer.v0+json": {
       "columns": [
        {
         "name": "index",
         "rawType": "int64",
         "type": "integer"
        },
        {
         "name": "TRIMMED COLUMN NAME",
         "rawType": "object",
         "type": "string"
        },
        {
         "name": "Entry #",
         "rawType": "int64",
         "type": "integer"
        },
        {
         "name": "Subject Area",
         "rawType": "object",
         "type": "string"
        },
        {
         "name": "Current CTR Definition Field Name",
         "rawType": "object",
         "type": "string"
        },
        {
         "name": "Data Type",
         "rawType": "object",
         "type": "string"
        },
        {
         "name": "Business Definition",
         "rawType": "object",
         "type": "string"
        },
        {
         "name": "Usage",
         "rawType": "object",
         "type": "string"
        },
        {
         "name": "Required Field? (Y/N)",
         "rawType": "object",
         "type": "string"
        },
        {
         "name": "Notes/Values",
         "rawType": "object",
         "type": "string"
        },
        {
         "name": "CHR?",
         "rawType": "object",
         "type": "string"
        },
        {
         "name": "Table Name",
         "rawType": "object",
         "type": "string"
        },
        {
         "name": "Column Name",
         "rawType": "object",
         "type": "string"
        },
        {
         "name": "Optum Extract Data Name",
         "rawType": "object",
         "type": "string"
        },
        {
         "name": "Optum Notes",
         "rawType": "object",
         "type": "unknown"
        }
       ],
       "ref": "b6441f7a-bc28-4518-ac0c-0564a8fdba24",
       "rows": [
        [
         "0",
         "CUSTOMER_ID",
         "1",
         "Customer",
         "CTR-CUSTOMER-ID",
         "9(10)",
         "Unique customer identifier",
         "B",
         "Y",
         "Primary key",
         "Y",
         "ECOM001_CUSTOMERS, ECOM002_ADDRESSES, ECOM007_ORDERS, ECOM010_REVIEWS",
         "CUSTOMER_ID",
         "PCUST-ID",
         "Customer primary key"
        ],
        [
         "1",
         "PRODUCT_ID",
         "2",
         "Product",
         "CTR-PRODUCT-ID",
         "9(10)",
         "Unique product identifier",
         "B",
         "Y",
         "Primary key",
         "Y",
         "ECOM005_PRODUCTS, ECOM006_INVENTORY, ECOM008_ORDER_ITEMS, ECOM010_REVIEWS",
         "PRODUCT_ID",
         "PPROD-ID",
         "Product primary key"
        ],
        [
         "2",
         "ORDER_ID",
         "3",
         "Order",
         "CTR-ORDER-ID",
         "9(12)",
         "Unique order identifier",
         "B",
         "Y",
         "Primary key",
         "Y",
         "ECOM007_ORDERS, ECOM008_ORDER_ITEMS, ECOM009_PAYMENTS",
         "ORDER_ID",
         "PORD-ID",
         "Order primary key"
        ],
        [
         "3",
         "ADDRESS_ID",
         "4",
         "Address",
         "CTR-ADDRESS-ID",
         "9(10)",
         "Unique address identifier",
         "B",
         "Y",
         "Primary key",
         "Y",
         "ECOM002_ADDRESSES",
         "ADDRESS_ID",
         "PADDR-ID",
         null
        ],
        [
         "4",
         "CATEGORY_ID",
         "5",
         "Product",
         "CTR-CATEGORY-ID",
         "9(8)",
         "Unique category identifier",
         "B",
         "Y",
         "Primary key",
         "Y",
         "ECOM003_CATEGORIES, ECOM005_PRODUCTS",
         "CATEGORY_ID",
         "PCAT-ID",
         "Category reference in products"
        ]
       ],
       "shape": {
        "columns": 14,
        "rows": 5
       }
      },
      "text/html": [
       "<div>\n",
       "<style scoped>\n",
       "    .dataframe tbody tr th:only-of-type {\n",
       "        vertical-align: middle;\n",
       "    }\n",
       "\n",
       "    .dataframe tbody tr th {\n",
       "        vertical-align: top;\n",
       "    }\n",
       "\n",
       "    .dataframe thead th {\n",
       "        text-align: right;\n",
       "    }\n",
       "</style>\n",
       "<table border=\"1\" class=\"dataframe\">\n",
       "  <thead>\n",
       "    <tr style=\"text-align: right;\">\n",
       "      <th></th>\n",
       "      <th>TRIMMED COLUMN NAME</th>\n",
       "      <th>Entry #</th>\n",
       "      <th>Subject Area</th>\n",
       "      <th>Current CTR Definition Field Name</th>\n",
       "      <th>Data Type</th>\n",
       "      <th>Business Definition</th>\n",
       "      <th>Usage</th>\n",
       "      <th>Required Field? (Y/N)</th>\n",
       "      <th>Notes/Values</th>\n",
       "      <th>CHR?</th>\n",
       "      <th>Table Name</th>\n",
       "      <th>Column Name</th>\n",
       "      <th>Optum Extract Data Name</th>\n",
       "      <th>Optum Notes</th>\n",
       "    </tr>\n",
       "  </thead>\n",
       "  <tbody>\n",
       "    <tr>\n",
       "      <th>0</th>\n",
       "      <td>CUSTOMER_ID</td>\n",
       "      <td>1</td>\n",
       "      <td>Customer</td>\n",
       "      <td>CTR-CUSTOMER-ID</td>\n",
       "      <td>9(10)</td>\n",
       "      <td>Unique customer identifier</td>\n",
       "      <td>B</td>\n",
       "      <td>Y</td>\n",
       "      <td>Primary key</td>\n",
       "      <td>Y</td>\n",
       "      <td>ECOM001_CUSTOMERS, ECOM002_ADDRESSES, ECOM007_...</td>\n",
       "      <td>CUSTOMER_ID</td>\n",
       "      <td>PCUST-ID</td>\n",
       "      <td>Customer primary key</td>\n",
       "    </tr>\n",
       "    <tr>\n",
       "      <th>1</th>\n",
       "      <td>PRODUCT_ID</td>\n",
       "      <td>2</td>\n",
       "      <td>Product</td>\n",
       "      <td>CTR-PRODUCT-ID</td>\n",
       "      <td>9(10)</td>\n",
       "      <td>Unique product identifier</td>\n",
       "      <td>B</td>\n",
       "      <td>Y</td>\n",
       "      <td>Primary key</td>\n",
       "      <td>Y</td>\n",
       "      <td>ECOM005_PRODUCTS, ECOM006_INVENTORY, ECOM008_O...</td>\n",
       "      <td>PRODUCT_ID</td>\n",
       "      <td>PPROD-ID</td>\n",
       "      <td>Product primary key</td>\n",
       "    </tr>\n",
       "    <tr>\n",
       "      <th>2</th>\n",
       "      <td>ORDER_ID</td>\n",
       "      <td>3</td>\n",
       "      <td>Order</td>\n",
       "      <td>CTR-ORDER-ID</td>\n",
       "      <td>9(12)</td>\n",
       "      <td>Unique order identifier</td>\n",
       "      <td>B</td>\n",
       "      <td>Y</td>\n",
       "      <td>Primary key</td>\n",
       "      <td>Y</td>\n",
       "      <td>ECOM007_ORDERS, ECOM008_ORDER_ITEMS, ECOM009_P...</td>\n",
       "      <td>ORDER_ID</td>\n",
       "      <td>PORD-ID</td>\n",
       "      <td>Order primary key</td>\n",
       "    </tr>\n",
       "    <tr>\n",
       "      <th>3</th>\n",
       "      <td>ADDRESS_ID</td>\n",
       "      <td>4</td>\n",
       "      <td>Address</td>\n",
       "      <td>CTR-ADDRESS-ID</td>\n",
       "      <td>9(10)</td>\n",
       "      <td>Unique address identifier</td>\n",
       "      <td>B</td>\n",
       "      <td>Y</td>\n",
       "      <td>Primary key</td>\n",
       "      <td>Y</td>\n",
       "      <td>ECOM002_ADDRESSES</td>\n",
       "      <td>ADDRESS_ID</td>\n",
       "      <td>PADDR-ID</td>\n",
       "      <td>NaN</td>\n",
       "    </tr>\n",
       "    <tr>\n",
       "      <th>4</th>\n",
       "      <td>CATEGORY_ID</td>\n",
       "      <td>5</td>\n",
       "      <td>Product</td>\n",
       "      <td>CTR-CATEGORY-ID</td>\n",
       "      <td>9(8)</td>\n",
       "      <td>Unique category identifier</td>\n",
       "      <td>B</td>\n",
       "      <td>Y</td>\n",
       "      <td>Primary key</td>\n",
       "      <td>Y</td>\n",
       "      <td>ECOM003_CATEGORIES, ECOM005_PRODUCTS</td>\n",
       "      <td>CATEGORY_ID</td>\n",
       "      <td>PCAT-ID</td>\n",
       "      <td>Category reference in products</td>\n",
       "    </tr>\n",
       "  </tbody>\n",
       "</table>\n",
       "</div>"
      ],
      "text/plain": [
       "  TRIMMED COLUMN NAME  Entry # Subject Area Current CTR Definition Field Name  \\\n",
       "0         CUSTOMER_ID        1     Customer                   CTR-CUSTOMER-ID   \n",
       "1          PRODUCT_ID        2      Product                    CTR-PRODUCT-ID   \n",
       "2            ORDER_ID        3        Order                      CTR-ORDER-ID   \n",
       "3          ADDRESS_ID        4      Address                    CTR-ADDRESS-ID   \n",
       "4         CATEGORY_ID        5      Product                   CTR-CATEGORY-ID   \n",
       "\n",
       "  Data Type         Business Definition Usage Required Field? (Y/N)  \\\n",
       "0     9(10)  Unique customer identifier     B                     Y   \n",
       "1     9(10)   Unique product identifier     B                     Y   \n",
       "2     9(12)     Unique order identifier     B                     Y   \n",
       "3     9(10)   Unique address identifier     B                     Y   \n",
       "4      9(8)  Unique category identifier     B                     Y   \n",
       "\n",
       "  Notes/Values CHR?                                         Table Name  \\\n",
       "0  Primary key    Y  ECOM001_CUSTOMERS, ECOM002_ADDRESSES, ECOM007_...   \n",
       "1  Primary key    Y  ECOM005_PRODUCTS, ECOM006_INVENTORY, ECOM008_O...   \n",
       "2  Primary key    Y  ECOM007_ORDERS, ECOM008_ORDER_ITEMS, ECOM009_P...   \n",
       "3  Primary key    Y                                  ECOM002_ADDRESSES   \n",
       "4  Primary key    Y               ECOM003_CATEGORIES, ECOM005_PRODUCTS   \n",
       "\n",
       "   Column Name Optum Extract Data Name                     Optum Notes  \n",
       "0  CUSTOMER_ID                PCUST-ID            Customer primary key  \n",
       "1   PRODUCT_ID                PPROD-ID             Product primary key  \n",
       "2     ORDER_ID                 PORD-ID               Order primary key  \n",
       "3   ADDRESS_ID                PADDR-ID                             NaN  \n",
       "4  CATEGORY_ID                 PCAT-ID  Category reference in products  "
      ]
     },
     "execution_count": 10,
     "metadata": {},
     "output_type": "execute_result"
    }
   ],
   "source": [
    "df_source_schema.head()"
   ]
  },
  {
   "cell_type": "code",
   "execution_count": 4,
   "id": "ed2825d6",
   "metadata": {},
   "outputs": [
    {
     "data": {
      "application/vnd.microsoft.datawrangler.viewer.v0+json": {
       "columns": [
        {
         "name": "index",
         "rawType": "int64",
         "type": "integer"
        },
        {
         "name": "Table Name",
         "rawType": "object",
         "type": "string"
        },
        {
         "name": "Column Name",
         "rawType": "object",
         "type": "string"
        },
        {
         "name": "Data Type",
         "rawType": "object",
         "type": "string"
        },
        {
         "name": "Description",
         "rawType": "object",
         "type": "string"
        },
        {
         "name": "Sample Value",
         "rawType": "object",
         "type": "string"
        }
       ],
       "ref": "92887a04-2923-444f-a5cf-e13f33a67af4",
       "rows": [
        [
         "0",
         "TAGRET01",
         "CUSTOMER_ID",
         "BIGINT",
         "Unique customer identifier - Primary Key",
         "1001"
        ],
        [
         "1",
         "TAGRET01",
         "UNIT_PRICE_ABOVE_100",
         "DECIMAL(9,2)",
         "How much of the product unit price is above 100 i.e product price minus 100",
         "2499.99"
        ],
        [
         "2",
         "TAGRET01",
         "ORDER_DATE_YR",
         "BIGINT",
         "Year in which the order was placed",
         "2024"
        ],
        [
         "3",
         "TAGRET01",
         "IS_STATUS_DELETED",
         "BULLION",
         "TRUE if Customer status is ( I=Inactive or  D=Deleted)",
         "TRUE"
        ]
       ],
       "shape": {
        "columns": 5,
        "rows": 4
       }
      },
      "text/html": [
       "<div>\n",
       "<style scoped>\n",
       "    .dataframe tbody tr th:only-of-type {\n",
       "        vertical-align: middle;\n",
       "    }\n",
       "\n",
       "    .dataframe tbody tr th {\n",
       "        vertical-align: top;\n",
       "    }\n",
       "\n",
       "    .dataframe thead th {\n",
       "        text-align: right;\n",
       "    }\n",
       "</style>\n",
       "<table border=\"1\" class=\"dataframe\">\n",
       "  <thead>\n",
       "    <tr style=\"text-align: right;\">\n",
       "      <th></th>\n",
       "      <th>Table Name</th>\n",
       "      <th>Column Name</th>\n",
       "      <th>Data Type</th>\n",
       "      <th>Description</th>\n",
       "      <th>Sample Value</th>\n",
       "    </tr>\n",
       "  </thead>\n",
       "  <tbody>\n",
       "    <tr>\n",
       "      <th>0</th>\n",
       "      <td>TAGRET01</td>\n",
       "      <td>CUSTOMER_ID</td>\n",
       "      <td>BIGINT</td>\n",
       "      <td>Unique customer identifier - Primary Key</td>\n",
       "      <td>1001</td>\n",
       "    </tr>\n",
       "    <tr>\n",
       "      <th>1</th>\n",
       "      <td>TAGRET01</td>\n",
       "      <td>UNIT_PRICE_ABOVE_100</td>\n",
       "      <td>DECIMAL(9,2)</td>\n",
       "      <td>How much of the product unit price is above 10...</td>\n",
       "      <td>2499.99</td>\n",
       "    </tr>\n",
       "    <tr>\n",
       "      <th>2</th>\n",
       "      <td>TAGRET01</td>\n",
       "      <td>ORDER_DATE_YR</td>\n",
       "      <td>BIGINT</td>\n",
       "      <td>Year in which the order was placed</td>\n",
       "      <td>2024</td>\n",
       "    </tr>\n",
       "    <tr>\n",
       "      <th>3</th>\n",
       "      <td>TAGRET01</td>\n",
       "      <td>IS_STATUS_DELETED</td>\n",
       "      <td>BULLION</td>\n",
       "      <td>TRUE if Customer status is ( I=Inactive or  D=...</td>\n",
       "      <td>TRUE</td>\n",
       "    </tr>\n",
       "  </tbody>\n",
       "</table>\n",
       "</div>"
      ],
      "text/plain": [
       "  Table Name           Column Name     Data Type  \\\n",
       "0   TAGRET01           CUSTOMER_ID        BIGINT   \n",
       "1   TAGRET01  UNIT_PRICE_ABOVE_100  DECIMAL(9,2)   \n",
       "2   TAGRET01         ORDER_DATE_YR        BIGINT   \n",
       "3   TAGRET01     IS_STATUS_DELETED       BULLION   \n",
       "\n",
       "                                         Description Sample Value  \n",
       "0           Unique customer identifier - Primary Key         1001  \n",
       "1  How much of the product unit price is above 10...      2499.99  \n",
       "2                 Year in which the order was placed         2024  \n",
       "3  TRUE if Customer status is ( I=Inactive or  D=...         TRUE  "
      ]
     },
     "execution_count": 4,
     "metadata": {},
     "output_type": "execute_result"
    }
   ],
   "source": [
    "df_target_schema"
   ]
  },
  {
   "cell_type": "code",
   "execution_count": 5,
   "id": "9cb50851",
   "metadata": {},
   "outputs": [],
   "source": [
    "# Convert DataFrame to JSON (records format)\n",
    "json_source_schema = df_source_schema.to_json(orient='records', lines=False)\n",
    "json_target_schema = df_target_schema.to_json(orient='records', lines=False)\n",
    "\n",
    "# Save JSON to a file\n",
    "with open('./02_wip/source_schema.json', 'w') as f:\n",
    "    f.write(json_source_schema)\n",
    "    \n",
    "with open('./02_wip/target_schema.json', 'w') as f:\n",
    "    f.write(json_target_schema)"
   ]
  },
  {
   "cell_type": "code",
   "execution_count": 6,
   "id": "b86fa64d",
   "metadata": {},
   "outputs": [],
   "source": [
    "def generate_transformation_rules(json_source_schema, json_target_schema, extra_instructions=\"\"):\n",
    "    prompt = (\n",
    "        f\"Given the following source table schema in JSON:\\n{json_source_schema}\\n\\n\"\n",
    "        f\"And the following target table schema in JSON:\\n{json_target_schema}\\n\\n\"\n",
    "        \"For each field in the target table, provide a transformation rule in the following JSON format:\\n\"\n",
    "        \"{\\n\"\n",
    "        \"  \\\"target_table\\\": \\\"<target_table_name>\\\",\\n\"\n",
    "        \"  \\\"target_field\\\": \\\"<target_field_name>\\\",\\n\"\n",
    "        \"  \\\"source_table\\\": \\\"<source_table_name>\\\",\\n\"\n",
    "        \"  \\\"source_field\\\": \\\"<source_field_name>\\\",\\n\"\n",
    "        \"  \\\"transformation\\\": \\\"<describe transformation or mapping logic>\\\"\\n\"\n",
    "        \"}\\n\"\n",
    "        \"If multiple source fields or tables are needed, list them as arrays. \"\n",
    "        \"Be explicit about any type conversions, calculations, or renaming. \"\n",
    "        f\"{extra_instructions}\\n\"\n",
    "        \"Output only the transformation rules as a JSON array.\"\n",
    "    )\n",
    "    response = openai.chat.completions.create(\n",
    "        model=\"gpt-3.5-turbo\",\n",
    "        messages=[\n",
    "            {\"role\": \"system\", \"content\": \"You are a data engineer who writes data transformation rules.\"},\n",
    "            {\"role\": \"user\", \"content\": prompt}\n",
    "        ],\n",
    "        max_tokens=1000,\n",
    "        temperature=0.2\n",
    "    )\n",
    "    return response.choices[0].message.content\n",
    "\n"
   ]
  },
  {
   "cell_type": "code",
   "execution_count": 7,
   "id": "1ae9f25c",
   "metadata": {},
   "outputs": [
    {
     "data": {
      "text/plain": [
       "'[{\"Table Name\":\"TAGRET01\",\"Column Name\":\"CUSTOMER_ID\",\"Data Type\":\"BIGINT\",\"Description\":\"Unique customer identifier - Primary Key\",\"Sample Value\":\"1001\"},{\"Table Name\":\"TAGRET01\",\"Column Name\":\"UNIT_PRICE_ABOVE_100\",\"Data Type\":\"DECIMAL(9,2)\",\"Description\":\"How much of the product unit price is above 100 i.e product price minus 100\",\"Sample Value\":\"2499.99\"},{\"Table Name\":\"TAGRET01\",\"Column Name\":\"ORDER_DATE_YR\",\"Data Type\":\"BIGINT\",\"Description\":\"Year in which the order was placed\",\"Sample Value\":\"2024\"},{\"Table Name\":\"TAGRET01\",\"Column Name\":\"IS_STATUS_DELETED\",\"Data Type\":\"BULLION\",\"Description\":\"TRUE if Customer status is ( I=Inactive or  D=Deleted)\",\"Sample Value\":\"TRUE\"}]'"
      ]
     },
     "execution_count": 7,
     "metadata": {},
     "output_type": "execute_result"
    }
   ],
   "source": [
    "json_target_schema"
   ]
  },
  {
   "cell_type": "code",
   "execution_count": 9,
   "id": "5aeaf687",
   "metadata": {},
   "outputs": [
    {
     "name": "stdout",
     "output_type": "stream",
     "text": [
      "```json\n",
      "[\n",
      "  {\n",
      "    \"target_table\": \"TAGRET01\",\n",
      "    \"target_field\": \"CUSTOMER_ID\",\n",
      "    \"source_table\": \"ECOM001_CUSTOMERS\",\n",
      "    \"source_field\": \"CUSTOMER_ID\",\n",
      "    \"transformation\": \"Direct mapping\"\n",
      "  },\n",
      "  {\n",
      "    \"target_table\": \"TAGRET01\",\n",
      "    \"target_field\": \"UNIT_PRICE_ABOVE_100\",\n",
      "    \"source_table\": [\"ECOM005_PRODUCTS\"],\n",
      "    \"source_field\": [\"UNIT_PRICE\"],\n",
      "    \"transformation\": \"CASE WHEN UNIT_PRICE > 100 THEN UNIT_PRICE - 100 ELSE 0 END\"\n",
      "  },\n",
      "  {\n",
      "    \"target_table\": \"TAGRET01\",\n",
      "    \"target_field\": \"ORDER_DATE_YR\",\n",
      "    \"source_table\": \"ECOM007_ORDERS\",\n",
      "    \"source_field\": \"ORDER_DATE\",\n",
      "    \"transformation\": \"CAST(SUBSTRING(ORDER_DATE, 1, 4) AS BIGINT)\"\n",
      "  },\n",
      "  {\n",
      "    \"target_table\": \"TAGRET01\",\n",
      "    \"target_field\": \"IS_STATUS_DELETED\",\n",
      "    \"source_table\": \"ECOM001_CUSTOMERS\",\n",
      "    \"source_field\": \"STATUS\",\n",
      "    \"transformation\": \"CASE WHEN STATUS IN ('I', 'D') THEN TRUE ELSE FALSE END\"\n",
      "  }\n",
      "]\n",
      "```\n"
     ]
    }
   ],
   "source": [
    "# Example usage:\n",
    "rules = generate_transformation_rules(json_source_schema,json_target_schema)\n",
    "print(rules)"
   ]
  },
  {
   "cell_type": "code",
   "execution_count": null,
   "id": "37bc71ef",
   "metadata": {},
   "outputs": [],
   "source": []
  }
 ],
 "metadata": {
  "kernelspec": {
   "display_name": "venv",
   "language": "python",
   "name": "python3"
  },
  "language_info": {
   "codemirror_mode": {
    "name": "ipython",
    "version": 3
   },
   "file_extension": ".py",
   "mimetype": "text/x-python",
   "name": "python",
   "nbconvert_exporter": "python",
   "pygments_lexer": "ipython3",
   "version": "3.12.4"
  }
 },
 "nbformat": 4,
 "nbformat_minor": 5
}
